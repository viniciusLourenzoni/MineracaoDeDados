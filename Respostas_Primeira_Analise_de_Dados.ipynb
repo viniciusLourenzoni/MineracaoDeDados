{
  "nbformat": 4,
  "nbformat_minor": 0,
  "metadata": {
    "colab": {
      "provenance": [],
      "collapsed_sections": [
        "i6u-R9eVa_oa",
        "CWUGHa-UZymt",
        "TZ8b2IzBbmfD",
        "riEbXeIcdgLA",
        "OXzeje9Zefwj",
        "TVc_P-ZNfj32",
        "-D2SgzB-nBy9",
        "8ldcrtaIoD6U",
        "OzprPAsfo0Bn"
      ],
      "authorship_tag": "ABX9TyMjGtaWP6rmu9wsWBX1mUT9",
      "include_colab_link": true
    },
    "kernelspec": {
      "name": "python3",
      "display_name": "Python 3"
    },
    "language_info": {
      "name": "python"
    }
  },
  "cells": [
    {
      "cell_type": "markdown",
      "metadata": {
        "id": "view-in-github",
        "colab_type": "text"
      },
      "source": [
        "<a href=\"https://colab.research.google.com/github/viniciusLourenzoni/MineracaoDeDados/blob/main/Respostas_Primeira_Analise_de_Dados.ipynb\" target=\"_parent\"><img src=\"https://colab.research.google.com/assets/colab-badge.svg\" alt=\"Open In Colab\"/></a>"
      ]
    },
    {
      "cell_type": "markdown",
      "source": [
        "# **1- CRIE UM TEXTO SOBRE O CONTEXTO DESSA BASE DE DADOS, DETALHANDO CADA COLUNA:**"
      ],
      "metadata": {
        "id": "i6u-R9eVa_oa"
      }
    },
    {
      "cell_type": "markdown",
      "source": [
        "A Base de Dados se trata de um movimento de dados de um supermecado da Tailândia, durante os 3 primeiros meses do ano, nesta base contém informações de Vendas de cada uma das Filiais dessa rede de Supermercado (3 filiais), assim como, o tipo do cliente, ou seja, se é um membro ou cliente normal, Gênero, Qual a linha de produto, preço de cada produto, Quantidade Adquirida, Valor total de cada compra realizada, data, período do dia, forma de pagamento, rendimento bruto e avaliação do cliente."
      ],
      "metadata": {
        "id": "oXtK3BD5bKiU"
      }
    },
    {
      "cell_type": "markdown",
      "source": [],
      "metadata": {
        "id": "UbLFpdzMSCWG"
      }
    },
    {
      "cell_type": "markdown",
      "source": [
        "#**2 - POR QUE SE UTILIZA \"!\" ANTES DO COMANDO GDOWN, PARA BAIXAR A BASE?** "
      ],
      "metadata": {
        "id": "riEbXeIcdgLA"
      }
    },
    {
      "cell_type": "markdown",
      "source": [
        "**R:** O símbolo \"!\" é utilizado para executar um comando no terminal do sistema operacional ao qual o notebook está sendo executado.\n",
        "\n",
        "No caso específico da biblioteca gdown, ele é usado para baixar arquivos do Google Drive, e é possível usá-lo sem o símbolo \"!\", mas ao adicionar \"!\" antes do comando, ele é executado como se fosse uma linha de comando diretamente no terminal.\n",
        "\n",
        "Portanto, ao adicionar \"!\" antes do comando gdown, ele é executado diretamente no terminal, o que permite o download da base de dados diretamente do Google Drive para o ambiente de trabalho do usuário sem precisar baixar manualmente o arquivo e, em seguida, transferi-lo para o ambiente."
      ],
      "metadata": {
        "id": "x5YrceZfdgLB"
      }
    },
    {
      "cell_type": "markdown",
      "source": [
        "#**3 - PORQUE PRECISAMOS DE BIBLITOTECA NO PYTHON?**"
      ],
      "metadata": {
        "id": "CWUGHa-UZymt"
      }
    },
    {
      "cell_type": "markdown",
      "source": [
        "**Iremos citar quais as principais bibliotecas utilizadas no Python, e para que serve cada uma delas.**\n",
        "\n",
        "\n",
        "**Numpy**\n",
        "\n",
        "\n",
        "O NumPy é muito utilizado na Ciência de Dados para processar grandes arrays e matrizes em alta velocidade. Além disso, ele oferece ao usuário uma série de funções matemáticas de alto nível para o tratamento de dados em Python.\n",
        "\n",
        "Trata-se de uma biblioteca que ocupa pouca memória e apresenta alta eficiência. Por ser open source, está constantemente sendo aprimorada pela comunidade, que cria novas ferramentas e soluciona problemas.\n",
        "\n",
        "\n",
        "**Pandas**\n",
        "\n",
        "\n",
        "O Pandas é uma biblioteca para análise e manipulação de dados que se utiliza de DataFrames a criação, exportação e manuseio de informações. Essas estruturas são formadas por duas dimensões (linhas e colunas), e podem ser atualizadas, exportadas e alteradas com facilidade.\n",
        "\n",
        "Além de ser uma ferramenta fácil de utilizar com interface amigável, ela permite a criação de gráficos inteligentes para a visualização de informações, e possui mecanismos para grupar e transformar dados.\n",
        "\n",
        "\n",
        "**SciPy**\n",
        "\n",
        "O SciPy é baseado no Numpy, e oferece um pacote de técnicas para a computação científica: estatísticas, integração numérica, cálculo integral, processamento de sinais e imagens, solução de equações diferenciais, funções especiais, entre outros. Todos esses pacotes são intuitivos e fáceis de aprender, tornando a ferramenta acessível."
      ],
      "metadata": {
        "id": "4Naf_sgXaAn5"
      }
    },
    {
      "cell_type": "markdown",
      "source": [
        "#**4 - EXPLIQUE O COMANDO ABAIXO, DE QUAL BIBLIOTECA SE TRATA?** "
      ],
      "metadata": {
        "id": "TZ8b2IzBbmfD"
      }
    },
    {
      "cell_type": "code",
      "source": [
        "sns.heatmap(df.isnull(),\n",
        "            yticklabels = False,\n",
        "            cbar = False,\n",
        "            cmap = 'gnuplot') #Função do seaborn para visualizar dados que estejam faltando (NaN = Not a Number)"
      ],
      "metadata": {
        "colab": {
          "base_uri": "https://localhost:8080/",
          "height": 429
        },
        "id": "Iak_-2ExMcNS",
        "outputId": "9f6dd737-0b2a-4b8c-a633-b3ff855bfd32"
      },
      "execution_count": null,
      "outputs": [
        {
          "output_type": "execute_result",
          "data": {
            "text/plain": [
              "<Axes: >"
            ]
          },
          "metadata": {},
          "execution_count": 6
        },
        {
          "output_type": "display_data",
          "data": {
            "text/plain": [
              "<Figure size 432x288 with 1 Axes>"
            ],
            "image/png": "[encoded data removed]"
          },
          "metadata": {
            "needs_background": "light"
          }
        }
      ]
    },
    {
      "cell_type": "markdown",
      "source": [
        "**R: O comando acima utiliza a função heatmap da biblioteca Seaborn** para visualizar dados faltantes (NaN) no dataframe **df**.\n",
        "\n",
        "A biblioteca **Seaborn** é uma biblioteca de visualização de dados em Python que é construída em cima da biblioteca Matplotlib. Ela fornece uma interface de alto nível para criar gráficos estatísticos atraentes e informativos.\n",
        "\n",
        "A função heatmap cria um mapa de calor para visualizar os valores de um DataFrame. Neste caso, a função heatmap é utilizada para visualizar os dados faltantes no DataFrame df. Os valores NaN são representados por uma cor específica (dada pelo mapa de cores 'gnuplot') e os valores não faltantes são representados por outras cores diferentes.\n",
        "\n",
        "Os parâmetros yticklabels = False e cbar = False são usados para remover os rótulos do eixo y e a barra de cores, respectivamente, a fim de melhorar a visualização dos dados faltantes."
      ],
      "metadata": {
        "id": "zz6PzInrcB3n"
      }
    },
    {
      "cell_type": "markdown",
      "source": [
        "# **5 - O QUE SIGNIFICA INPLACE?** "
      ],
      "metadata": {
        "id": "PA1aT6E_T8t3"
      }
    },
    {
      "cell_type": "markdown",
      "source": [
        "**R:** Tirar a coluna e salvar, alterando definitivamente a tabela."
      ],
      "metadata": {
        "id": "lh_0HEW1T8t9"
      }
    },
    {
      "cell_type": "markdown",
      "source": [
        "# **6 - O QUE SIGNIFICA A FUNÇÃO UNIQUE()?** "
      ],
      "metadata": {
        "id": "Q7Zin9nJUpPw"
      }
    },
    {
      "cell_type": "markdown",
      "source": [
        "**R:** A função unique no Pandas retorna uma lista dos elementos únicos com base na ocorrência.\n",
        "Util para verificar os diferentes valores em um campo categórico."
      ],
      "metadata": {
        "id": "xseopUinUpP4"
      }
    },
    {
      "cell_type": "markdown",
      "source": [
        "# **7 - PORQUE PRECISAMOS CONVERTER PARA DATATIME64? O QUE SIGNIFICA ISSO?** "
      ],
      "metadata": {
        "id": "zXzELUx6VAXe"
      }
    },
    {
      "cell_type": "markdown",
      "source": [
        "**R:** O módulo datetime fornece as classes para manipulação de datas e horas."
      ],
      "metadata": {
        "id": "UDGKLxNgVAXl"
      }
    },
    {
      "cell_type": "markdown",
      "source": [
        "#**8 - PORQUE ESSE COMANDO É IMPORTANTE QUANDO SE TRATA DE KDD?** "
      ],
      "metadata": {
        "id": "OXzeje9Zefwj"
      }
    },
    {
      "cell_type": "code",
      "source": [
        "df.duplicated().sum() "
      ],
      "metadata": {
        "colab": {
          "base_uri": "https://localhost:8080/"
        },
        "id": "m10NgQo2c8ZG",
        "outputId": "33cd84a8-6196-4a5d-a14e-9bc0a8dd5509"
      },
      "execution_count": null,
      "outputs": [
        {
          "output_type": "execute_result",
          "data": {
            "text/plain": [
              "0"
            ]
          },
          "metadata": {},
          "execution_count": 22
        }
      ]
    },
    {
      "cell_type": "markdown",
      "source": [
        "**R:** O comando **df.duplicated().sum()** é importante em KDD porque ele ajuda a identificar e tratar de dados duplicados em um DataFrame.\n",
        "\n",
        "O comando **df.duplicated().sum()** verifica se existem valores duplicados no DataFrame df e retorna a quantidade de duplicatas encontradas. Se o valor retornado for maior que zero, significa que há duplicatas no DataFrame, o que pode ser um problema para algumas análises."
      ],
      "metadata": {
        "id": "j3AlUxbuefwk"
      }
    },
    {
      "cell_type": "markdown",
      "source": [
        "# **9 - O QUE É DICIONÁRIO EM PYTHON, PARA QUE SERVE?** "
      ],
      "metadata": {
        "id": "iZfbRR84VtEH"
      }
    },
    {
      "cell_type": "code",
      "source": [
        "meses = {1: 'Janeiro', 2:'Fevereiro', 3: 'Março'} # Criando um dicionário "
      ],
      "metadata": {
        "id": "F1G17DqoV0ag"
      },
      "execution_count": null,
      "outputs": []
    },
    {
      "cell_type": "markdown",
      "source": [
        "**R:**  Os dicionários Python são uma coleção que guarda valores multidimensionais para cada índice. \n",
        "Diferentemente de uma lista encadeada, que guarda apenas um valor por vez. \n",
        "Assim, é possível gerar estruturas mais complexas que simulam melhor a realidade e conseguem mapear instâncias do mundo real em um programa de software.\n",
        "É uma coleção que consiste em chaves e valores correspondentes, quase como uma associação entre dois conjuntos. \n",
        "É também uma coleção ordenada, mutável, indexada e que não possibilita a inserção de elementos repetidos.\n",
        "Um bom exemplo para ilustrar um dicionário é um próprio dicionário de tradução de termos de um idioma para outro."
      ],
      "metadata": {
        "id": "9egy_xl_VtEQ"
      }
    },
    {
      "cell_type": "markdown",
      "source": [
        "# **10 - EXPLIQUE A FUNÇÃO dt.month.map(meses)?** "
      ],
      "metadata": {
        "id": "TVc_P-ZNfj32"
      }
    },
    {
      "cell_type": "code",
      "source": [
        "df['Data'] = pd.to_datetime(df['Data']).dt.month.map(meses) #Mapear o número mês para string mês"
      ],
      "metadata": {
        "id": "EhWVAQUCeC2w"
      },
      "execution_count": null,
      "outputs": []
    },
    {
      "cell_type": "markdown",
      "source": [
        "**R:** O comando df['Data'] = pd.to_datetime(df['Data']).dt.month.map(meses) utiliza a função map() em conjunto com a biblioteca Pandas para converter os valores de mês de uma coluna de data em nomes de mês.\n",
        "\n",
        "A função pd.to_datetime() é usada para converter os valores da coluna 'Data' em objetos de data e hora. Em seguida, a propriedade dt.month é usada para obter os valores de mês (representados por números inteiros) de cada data na coluna 'Data'."
      ],
      "metadata": {
        "id": "P3QMlusbfj4A"
      }
    },
    {
      "cell_type": "markdown",
      "source": [
        "# **11 - EXPLIQUE A FUNÇÃO dt.strftime, POR QUE PRECISAMOS MUDAR O OBJETO?** "
      ],
      "metadata": {
        "id": "_jSQJa9oWYWA"
      }
    },
    {
      "cell_type": "code",
      "source": [
        "df['Horário'] = df['Horário'].dt.strftime('%H') #Transformar datatime em object (string), selecionado apenas o horário."
      ],
      "metadata": {
        "id": "R9NI0m-WWpLW"
      },
      "execution_count": null,
      "outputs": []
    },
    {
      "cell_type": "markdown",
      "source": [
        "**R:** Series.dt.strftime()função Pandas é usada para converter em índice usando o formato_de_data especificado.\n",
        "A função retorna um índice de strings formatadas especificado por date_format, que suporta o mesmo formato de string que a biblioteca padrão python.\n",
        "Transforma o date no nosso padrao de data dia, mes, ano."
      ],
      "metadata": {
        "id": "fEgG5BKGWYWJ"
      }
    },
    {
      "cell_type": "markdown",
      "source": [
        "# **12 - EXPLIQUE DETALHADAMENTE O BLOCO DE CÓDIGO ABAIXO:** "
      ],
      "metadata": {
        "id": "b6Z0MYaFW5IX"
      }
    },
    {
      "cell_type": "code",
      "source": [
        "time = [] #lista vazia\n",
        "for i in list(map(int,df['Horário'])): #laço for mapeando e transformando string para inteiro\n",
        "    if i > 8 and i < 13: # 9 - 12 (manhã)\n",
        "      time.append('Manhã') # Comando Append vai inserir Manhã quando o critério for verdadeiro na lista time.\n",
        "    elif i > 12 and i < 19: \n",
        "      time.append('Tarde')\n",
        "    else:\n",
        "      time.append('Noite')\n",
        "df['Horário'] = time #Substituindo a coluna horário pela lista time"
      ],
      "metadata": {
        "id": "LCLH7RBgXI9P"
      },
      "execution_count": null,
      "outputs": []
    },
    {
      "cell_type": "markdown",
      "source": [
        "**R:** Cria uma lista vazia time que efetua um laço do for que faz uma validaçao do if que pega o horario, mapeia e transforma string para inteiro.\n",
        "Se a hora for maior que 8 e menor que 13, logo é manhã,\n",
        "Se a hora for maior que 13 e menor que 19, logo é tarde,\n",
        "Se for outra hora é noite \n",
        "df[horario] = time substitui a coluna horario pela lista time que foi criada."
      ],
      "metadata": {
        "id": "MrP0RDo7W5IY"
      }
    },
    {
      "cell_type": "markdown",
      "source": [
        "# **13 - EXPLIQUE DE MANEIRA RESUMIDA O QUE FOI FEITO:** "
      ],
      "metadata": {
        "id": "zBDyL3dVXd1_"
      }
    },
    {
      "cell_type": "markdown",
      "source": [
        "**R:** Foi excluído algumas colunas que não tinham correlação\n",
        "Item da lista\n",
        "\n",
        "Foi retirada um coluna que nao tinham serventia com a coluna 'unamed', 'porcentagem de margem bruta','renda bruta','ID da fatura'.\n",
        "Foi trocado o nome Member por Associado, na coluna Tipo de Cliente.\n",
        "Foi trocado o nome da coluna Tempo por Horário."
      ],
      "metadata": {
        "id": "Kv0qi4Y8Xd2B"
      }
    },
    {
      "cell_type": "markdown",
      "source": [
        "# **14 - O QUE SIGNIFICA A FUNÇÃO ABAIXO? POR QUE LINHA DE PRODUTO ESTÁ ENTRE PARÊNTESES E AVALIAÇÃO ENTRE COLCHETES?** "
      ],
      "metadata": {
        "id": "-D2SgzB-nBy9"
      }
    },
    {
      "cell_type": "code",
      "source": [
        "Agrupamento = df.groupby('Linha de produto')['Avaliação'].mean().reset_index(drop=False) "
      ],
      "metadata": {
        "id": "XRnBagp4imw5"
      },
      "execution_count": null,
      "outputs": []
    },
    {
      "cell_type": "markdown",
      "source": [
        "**R:** A função groupby() é uma função do Pandas que é utilizada para agrupar os dados em um DataFrame de acordo com uma ou mais colunas. Neste caso, a função groupby() é utilizada para agrupar os dados do DataFrame df pela coluna \"Linha de produto\".\n",
        "\n",
        "O parâmetro \"Linha de produto\" é passado entre os parênteses da função groupby() para indicar qual coluna do DataFrame deve ser usada como base para o agrupamento.\n",
        "\n",
        "Além disso, a função mean() é aplicada à coluna \"Avaliação\" do DataFrame para calcular a média dos valores dessa coluna para cada grupo formado pela coluna \"Linha de produto\". O resultado é um novo DataFrame contendo as médias das avaliações para cada linha de produto.\n",
        "\n",
        "O parâmetro drop=False é usado no comando reset_index() para manter a coluna \"Linha de produto\" no novo DataFrame gerado após o agrupamento e cálculo das médias.\n",
        "\n",
        "Portanto, o comando completo Agrupamento = df.groupby('Linha de produto')['Avaliação'].mean().reset_index(drop=False) significa que os dados no DataFrame df serão agrupados pela coluna \"Linha de produto\" e, em seguida, a média dos valores da coluna \"Avaliação\" será calculada para cada grupo. O resultado será um novo DataFrame contendo as médias das avaliações para cada linha de produto, mantendo a coluna \"Linha de produto\" no novo DataFrame."
      ],
      "metadata": {
        "id": "iGZRsWPZnBy-"
      }
    },
    {
      "cell_type": "markdown",
      "source": [
        "# **15 - POR QUE ASCENDING ESTÁ FALSO?** "
      ],
      "metadata": {
        "id": "8ldcrtaIoD6U"
      }
    },
    {
      "cell_type": "code",
      "source": [
        "Agrupando_avaliação = Agrupando_avaliação.sort_values(by = 'Avaliação', ascending = False) #Classicando valores na ordem decrescente (maior para menor)"
      ],
      "metadata": {
        "id": "1B3ETgdTnub6"
      },
      "execution_count": null,
      "outputs": []
    },
    {
      "cell_type": "markdown",
      "source": [
        "**R:** O parâmetro ascending no comando sort_values() indica se os valores da coluna especificada devem ser classificados em ordem crescente ou decrescente.\n",
        "\n",
        "No caso do comando Agrupando_avaliação.sort_values(by='Avaliação', ascending=False), o parâmetro ascending está definido como False, o que significa que a coluna \"Avaliação\" será classificada em ordem decrescente.\n",
        "\n",
        "Ao classificar a coluna \"Avaliação\" em ordem decrescente, os valores mais altos aparecerão primeiro na coluna, seguidos pelos valores mais baixos. Isso é útil quando se deseja identificar rapidamente quais itens possuem as avaliações mais altas, por exemplo.\n",
        "\n",
        "Dessa forma, ao usar ascending=False, os itens com as avaliações mais altas aparecerão no topo da tabela, o que facilita a visualização e análise dos dados."
      ],
      "metadata": {
        "id": "ckcVcyJOoD6e"
      }
    },
    {
      "cell_type": "markdown",
      "source": [
        "# **16 - EXPLIQUE DE MANEIRA RESUMIDA O QUE FOI FEITO:** "
      ],
      "metadata": {
        "id": "OzprPAsfo0Bn"
      }
    },
    {
      "cell_type": "code",
      "source": [
        "ax = sns.barplot(y = 'Linha de produto', x = 'Avaliação', data = Agrupando_avaliação, palette = Figura)\n",
        "plt.rcParams['figure.figsize'] = (18, 10) #Aumentar o tamanho da Figura\n",
        "ax.set_xlabel('Avaliação dos Clientes')\n",
        "plt.rcParams.update({\"font.size\": 18}) #Aumentar a letra\n",
        "plt.savefig('Linha_x_avaliacao.png', dpi=300)"
      ],
      "metadata": {
        "colab": {
          "base_uri": "https://localhost:8080/",
          "height": 279
        },
        "id": "ePlVIst1oKx0",
        "outputId": "300a064a-caec-4943-cfd5-c19d172ba7c8"
      },
      "execution_count": null,
      "outputs": [
        {
          "output_type": "display_data",
          "data": {
            "text/plain": [
              "<Figure size 432x288 with 1 Axes>"
            ],
            "image/png": "[encoded data removed]"
          },
          "metadata": {
            "needs_background": "light"
          }
        }
      ]
    },
    {
      "cell_type": "markdown",
      "source": [
        "**R:** O código em questão utiliza a biblioteca Seaborn para gerar um gráfico de barras.\n",
        "\n",
        "A variável Agrupando_avaliação contém os dados a serem plotados, que foram agrupados pela coluna \"Linha de produto\" e tiveram a média das avaliações calculadas.\n",
        "\n",
        "Em seguida, a função sns.barplot() é usada para plotar o gráfico de barras com a avaliação média para cada linha de produto. Os eixos X e Y são definidos como \"Avaliação dos Clientes\" e \"Linha de produto\", respectivamente.\n",
        "\n",
        "A variável Figura é usada para definir a paleta de cores do gráfico, que será utilizada para colorir as barras.\n",
        "\n",
        "As próximas três linhas de código são usadas para personalizar a figura. A primeira linha define o tamanho da figura como (18,10). A segunda linha aumenta o tamanho da fonte do gráfico. A terceira linha salva a figura como uma imagem em formato png.\n",
        "\n",
        "Em resumo, o código gera um gráfico de barras utilizando os dados de avaliação média de cada linha de produto, personaliza a figura e salva-a como uma imagem."
      ],
      "metadata": {
        "id": "srVsqVl3o0Bo"
      }
    },
    {
      "cell_type": "markdown",
      "source": [
        "# **17 - QUAL A LINHA DE PRODUTO MAIS BEM AVALIADA? LEVANTE HIPÓTESE SOBRE ESSE RESULTADO?** "
      ],
      "metadata": {
        "id": "90O1dym1YbSE"
      }
    },
    {
      "cell_type": "code",
      "source": [],
      "metadata": {
        "id": "_uBtmSZ1ZU60"
      },
      "execution_count": null,
      "outputs": []
    },
    {
      "cell_type": "code",
      "source": [
        "ax = sns.barplot(y = 'Linha de produto', x = 'Avaliação', data = Agrupando_avaliação, palette = Figura)\n",
        "plt.rcParams['figure.figsize'] = (18, 10) #Aumentar o tamanho da Figura\n",
        "ax.set_xlabel('Avaliação dos Clientes')\n",
        "plt.rcParams.update({\"font.size\": 18}) #Aumentar a letra\n",
        "plt.savefig('Linha_x_avaliacao.png', dpi=300)"
      ],
      "metadata": {
        "colab": {
          "base_uri": "https://localhost:8080/",
          "height": 279
        },
        "outputId": "300a064a-caec-4943-cfd5-c19d172ba7c8",
        "id": "qhPAdxuCZVCt"
      },
      "execution_count": null,
      "outputs": [
        {
          "output_type": "display_data",
          "data": {
            "text/plain": [
              "<Figure size 432x288 with 1 Axes>"
            ],
            "image/png": "[encoded data removed]"
          },
          "metadata": {
            "needs_background": "light"
          }
        }
      ]
    },
    {
      "cell_type": "markdown",
      "source": [
        "**R:** De acordo a imagem, podemos concluir que a linha de baixo se trata da quantidade de pessoas que avaliaram. Nesta análise, e notável que a linha de produto = \"Acessórios fashions\" tem mais avaliações."
      ],
      "metadata": {
        "id": "R6J1TKxYYbSK"
      }
    },
    {
      "cell_type": "markdown",
      "source": [
        "# **18 - O QUE FAZ A FUNÇÃO ABAIXO?** "
      ],
      "metadata": {
        "id": "6Ls8wMMVZucV"
      }
    },
    {
      "cell_type": "code",
      "source": [
        "agrupando_Produto_Total = df.groupby('Linha de produto')['Total'].mean().reset_index(drop=False) # Agrupando a coluna linha de produto e Total"
      ],
      "metadata": {
        "id": "IRLWKlAEaI4a"
      },
      "execution_count": null,
      "outputs": []
    },
    {
      "cell_type": "markdown",
      "source": [
        "**R:** Essa função realiza uma operação de agrupamento no DataFrame df com base na coluna \"Linha de produto\". Ela agrupa as linhas do DataFrame que possuem os mesmos valores na coluna \"Linha de produto\" e, em seguida, calcula a média dos valores na coluna \"Total\" para cada grupo.\n",
        "\n",
        "O resultado do agrupamento é um novo DataFrame que contém duas colunas: \"Linha de produto\" e \"Total\". A coluna \"Linha de produto\" contém os valores únicos da coluna \"Linha de produto\" do DataFrame original e a coluna \"Total\" contém a média dos valores na coluna \"Total\" para cada grupo."
      ],
      "metadata": {
        "id": "g7bHNjLaZucc"
      }
    },
    {
      "cell_type": "code",
      "source": [],
      "metadata": {
        "id": "9StRT9zvar-4"
      },
      "execution_count": null,
      "outputs": []
    },
    {
      "cell_type": "markdown",
      "source": [
        "# **19 - MUDE O GRÁFICO ABAIXO PARA BARRAS** "
      ],
      "metadata": {
        "id": "eqvhM246aMoE"
      }
    },
    {
      "cell_type": "code",
      "source": [
        "fig, ax = plt.subplots(figsize=(16,12))\n",
        "ax = sns.scatterplot(x = 'Linha de produto', y = 'Total', data = agrupando_Produto_Total, s = 75) # tipo do gráfico scatter com tamanho dos pontos 75\n",
        "plt.axhline(y=np.nanmean(df.Total), color='red', linestyle='--', linewidth=3, label='Média') #Média linha vermelha\n",
        "plt.xticks(rotation = 45) # Colocar a legenda em 45 graus"
      ],
      "metadata": {
        "colab": {
          "base_uri": "https://localhost:8080/",
          "height": 989
        },
        "id": "iPTc2S0_MI0m",
        "outputId": "498a51fb-2d33-4325-bf07-3fbc19ce4c56"
      },
      "execution_count": null,
      "outputs": [
        {
          "output_type": "execute_result",
          "data": {
            "text/plain": [
              "([0, 1, 2, 3, 4, 5],\n",
              " [Text(0, 0, 'Acessórios eletrônicos'),\n",
              "  Text(1, 0, 'Acessórios fashions'),\n",
              "  Text(2, 0, 'Casa e estilo de vida'),\n",
              "  Text(3, 0, 'Comida e bebidas'),\n",
              "  Text(4, 0, 'Esportes e viagens'),\n",
              "  Text(5, 0, 'Saúde e beleza')])"
            ]
          },
          "metadata": {},
          "execution_count": 42
        },
        {
          "output_type": "display_data",
          "data": {
            "text/plain": [
              "<Figure size 1152x864 with 1 Axes>"
            ],
            "image/png": "[encoded data removed]"
          },
          "metadata": {
            "needs_background": "light"
          }
        }
      ]
    },
    {
      "cell_type": "markdown",
      "source": [
        "**R:** "
      ],
      "metadata": {
        "id": "VDtVDIgXaMoE"
      }
    },
    {
      "cell_type": "code",
      "source": [
        "fig, ax = plt.subplots(figsize=(16,12))\n",
        "ax = sns.barplot(x='Linha de produto', y='Total', data=agrupando_Produto_Total, ci=None)\n",
        "plt.axhline(y=np.nanmean(df.Total), color='red', linestyle='--', linewidth=3, label='Média')\n",
        "plt.xticks(rotation=45)\n"
      ],
      "metadata": {
        "id": "it-yNALQazJw"
      },
      "execution_count": null,
      "outputs": []
    },
    {
      "cell_type": "markdown",
      "source": [
        "A função sns.barplot() cria um gráfico de barras usando os valores de \"Linha de produto\" no eixo x e os valores médios de \"Total\" no eixo y. O parâmetro ci=None é usado para não mostrar intervalos de confiança. A linha de média ainda é adicionada ao gráfico usando a função plt.axhline()."
      ],
      "metadata": {
        "id": "q1gGBgJEa0cG"
      }
    },
    {
      "cell_type": "markdown",
      "source": [
        "# **20 - EXPLIQUE O GRÁFICO A SEGUIR, O QUE SIGNIFICA?** "
      ],
      "metadata": {
        "id": "5ujo7E23a5me"
      }
    },
    {
      "cell_type": "code",
      "source": [
        "fig, ax = plt.subplots(figsize=(16,12))\n",
        "ax = sns.boxenplot(y='Linha de produto', x = 'Quantidade', data=df) #Cálculo da distribuição da quantidade em relação a linha de produto"
      ],
      "metadata": {
        "id": "qHe2gRUFa5me"
      },
      "execution_count": null,
      "outputs": []
    },
    {
      "cell_type": "markdown",
      "source": [
        "**R:** Esse gráfico é um Boxenplot, também conhecido como gráfico de \"caixa esticada\". Ele é usado para visualizar a distribuição de uma variável categórica em relação a uma variável numérica contínua.\n",
        "\n",
        "No gráfico, cada linha horizontal representa uma categoria da variável categórica \"Linha de produto\". A caixa esticada (ou \"cauda\") no meio de cada linha representa a distribuição da variável numérica \"Quantidade\" para aquela categoria.\n",
        "\n",
        "A caixa é dividida em quartis, com a mediana representada pela linha laranja no centro da caixa. As extremidades superior e inferior da caixa representam o terceiro e primeiro quartis, respectivamente. As linhas que se estendem além da caixa (as \"caudas\") representam a distribuição das observações que não estão dentro dos quartis.\n",
        "\n",
        "Esse gráfico permite visualizar as diferenças entre as distribuições de \"Quantidade\" para cada categoria de \"Linha de produto\". Também é possível identificar valores atípicos (outliers) e ver se as distribuições têm medianas semelhantes ou diferentes."
      ],
      "metadata": {
        "id": "lRpf9hYha5me"
      }
    },
    {
      "cell_type": "markdown",
      "source": [
        "# **21 - POR QUE 'QUANTIDADE' ESTÁ ACOMPANHANDO sum()?** "
      ],
      "metadata": {
        "id": "43bMCgqMbzLm"
      }
    },
    {
      "cell_type": "code",
      "source": [
        "Agrupando_Data_Quantidade = df.groupby('Data')['Quantidade'].sum().reset_index(drop=False)"
      ],
      "metadata": {
        "id": "a0EtaVgocIoa"
      },
      "execution_count": null,
      "outputs": []
    },
    {
      "cell_type": "markdown",
      "source": [
        "**R:** Em Pandas, o método groupby() é usado para agrupar as linhas de um DataFrame com base nos valores de uma ou mais colunas.\n",
        "\n",
        "No exemplo dado, o DataFrame df é agrupado com base nos valores da coluna \"Data\" usando o método groupby(). Em seguida, a função de agregação sum() é aplicada à coluna \"Quantidade\" de cada grupo.\n",
        "\n",
        "Essa função de agregação calcula a soma dos valores na coluna \"Quantidade\" para cada grupo de \"Data\". Ou seja, para cada data, a função sum() calcula a soma de todas as quantidades correspondentes a essa data no DataFrame original.\n",
        "\n",
        "Portanto, o resultado do agrupamento é um novo DataFrame chamado Agrupando_Data_Quantidade, com duas colunas: \"Data\" e \"Quantidade\". A coluna \"Data\" contém os valores únicos da coluna \"Data\" do DataFrame original e a coluna \"Quantidade\" contém a soma dos valores na coluna \"Quantidade\" para cada grupo."
      ],
      "metadata": {
        "id": "8lp-9hYcbzLt"
      }
    },
    {
      "cell_type": "markdown",
      "source": [
        "# **22 - EXPLIQUE O GRAFICO ACIMA, O QUE SIGNIFICA?** "
      ],
      "metadata": {
        "id": "vu6VFX5SUbH8"
      }
    },
    {
      "cell_type": "code",
      "source": [
        "fig, ax = plt.subplots(figsize=(16,12))\n",
        "ax = sns.lineplot(x = 'Data', y ='Quantidade', data = Agrupando_Data_Quantidade, marker='o', markersize=10)"
      ],
      "metadata": {
        "colab": {
          "base_uri": "https://localhost:8080/",
          "height": 730
        },
        "id": "CCXG8hACVnLt",
        "outputId": "2ca96f27-b6b1-46f4-e25c-f63b1058630b"
      },
      "execution_count": null,
      "outputs": [
        {
          "output_type": "display_data",
          "data": {
            "text/plain": [
              "<Figure size 1152x864 with 1 Axes>"
            ],
            "image/png": "[encoded data removed]"
          },
          "metadata": {
            "needs_background": "light"
          }
        }
      ]
    },
    {
      "cell_type": "markdown",
      "source": [
        "**R:** O gráfico resultante terá o eixo x representando datas e o eixo y representando quantidades. Cada ponto de dados será representado por um marcador circular com um diâmetro de 10 unidades. As linhas são desenhadas entre os pontos de dados para criar uma linha suave que mostra a tendência geral dos dados ao longo do tempo."
      ],
      "metadata": {
        "id": "RFvO07FZUbID"
      }
    },
    {
      "cell_type": "markdown",
      "source": [
        "# **23 - EXPLIQUE O CÓDIGO ACIMA?** "
      ],
      "metadata": {
        "id": "R0gRSe_jWVRb"
      }
    },
    {
      "cell_type": "code",
      "source": [
        "Agrupando_Data_Quantidade = Agrupando_Data_Quantidade.reindex(new_index) # salvando"
      ],
      "metadata": {
        "id": "trebUqlsXo3B"
      },
      "execution_count": null,
      "outputs": []
    },
    {
      "cell_type": "markdown",
      "source": [
        "**R:** Nesse código, Agrupando_Data_Quantidade é um DataFrame que foi previamente agrupado pela coluna \"Data\" e a quantidade foi somada ou agregada de alguma forma. A variável new_index é uma nova lista de datas, onde argupamos os meses na ordem original (janeiro, fevereiro e março)."
      ],
      "metadata": {
        "id": "shcyKZH-Xo3B"
      }
    },
    {
      "cell_type": "markdown",
      "source": [
        "# **24 - EXPLIQUE DETALHADAMENTE O CÓDIGO ABAIXO:** "
      ],
      "metadata": {
        "id": "1gYDhlggW1U7"
      }
    },
    {
      "cell_type": "code",
      "source": [
        "plt.style.use('classic') #Gráfico Clássico\n",
        "plt.style.use('bmh') #estilo cores\n",
        "df.groupby('Tipo de Cliente').count()['Total'].plot(kind='pie', autopct='%.1f', figsize=(16,12), subplots=True, wedgeprops=dict(width=0.20))"
      ],
      "metadata": {
        "id": "NCNr_fxQXGKX"
      },
      "execution_count": null,
      "outputs": []
    },
    {
      "cell_type": "markdown",
      "source": [
        "**R:** O código acima cria um gráfico de pizza (pie chart) que agrupa e conta as ocorrências de um DataFrame chamado \"df\" com base em uma coluna chamada \"Tipo de Cliente\".\n",
        "\n",
        "Vamos analisar linha por linha:\n",
        "\n",
        "plt.style.use('classic'): define o estilo do gráfico como \"classic\". Esta é uma opção de estilo pré-definido da biblioteca matplotlib, que pode ser usada para definir diferentes estilos de gráfico.\n",
        "\n",
        "plt.style.use('bmh'): define o estilo de cores do gráfico como \"bmh\". Esta também é uma opção de estilo pré-definido da biblioteca matplotlib, que pode ser usada para definir diferentes esquemas de cores para o gráfico.\n",
        "\n",
        "df.groupby('Tipo de Cliente').count()['Total']: o método groupby() é usado para agrupar o DataFrame \"df\" com base na coluna \"Tipo de Cliente\". Em seguida, o método count() é usado para contar o número de ocorrências de cada categoria de \"Tipo de Cliente\". O resultado é uma série que contém o número de ocorrências de cada categoria de \"Tipo de Cliente\", onde o índice é o nome de cada categoria e o valor é a contagem de ocorrências.\n",
        "\n",
        ".plot(kind='pie', autopct='%.1f', figsize=(16,12), subplots=True, wedgeprops=dict(width=0.20)): o método plot() é usado para criar o gráfico de pizza. Os parâmetros definidos neste método são:\n",
        "\n",
        "kind='pie': define o tipo de gráfico como \"pie chart\" (gráfico de pizza).\n",
        "\n",
        "autopct='%.1f': define o formato de exibição dos valores das fatias da pizza como \"1 casa decimal\" com o símbolo de percentual (%).\n",
        "\n",
        "figsize=(16,12): define o tamanho da figura do gráfico como 16 unidades de largura por 12 unidades de altura.\n",
        "\n",
        "subplots=True: define que cada categoria será plotada em um subplot separado.\n",
        "\n",
        "wedgeprops=dict(width=0.20): define a largura das fatias da pizza como 0.20. Esse parâmetro é usado para separar as fatias da pizza, criando um efeito de destaque visual entre elas."
      ],
      "metadata": {
        "id": "hTBlgA0IW1U8"
      }
    },
    {
      "cell_type": "markdown",
      "source": [
        "# **25 - ESTA COERENTE O GRAFICO ACIMA?** "
      ],
      "metadata": {
        "id": "ICoHbMayXwOG"
      }
    },
    {
      "cell_type": "code",
      "source": [
        "df.groupby('Tipo de Cliente').count()['Total']"
      ],
      "metadata": {
        "id": "onP9XxBcX5DA"
      },
      "execution_count": null,
      "outputs": []
    },
    {
      "cell_type": "markdown",
      "source": [
        "**R:** Sim, as informações de \"Associado\" e \"Normal\" são apresentadas no grafico Pizza com os valores esperados."
      ],
      "metadata": {
        "id": "cJNW2RmSXwOH"
      }
    },
    {
      "cell_type": "markdown",
      "source": [
        "# **26 - EXPLIQUE O CÓDIGO ABAIXO:** "
      ],
      "metadata": {
        "id": "RyJvhvI9YMQh"
      }
    },
    {
      "cell_type": "code",
      "source": [
        "plt.style.use('classic')\n",
        "plt.style.use('bmh')\n",
        "df.groupby('Pagamento').count()['Total'].plot(kind='pie', autopct='%.1f', figsize=(16,12), subplots=True, wedgeprops=dict(width=0.20))"
      ],
      "metadata": {
        "id": "cJ8Rk0tOYTAu"
      },
      "execution_count": null,
      "outputs": []
    },
    {
      "cell_type": "markdown",
      "source": [
        "**R:** Este código cria um gráfico de pizza (pie chart) que conta o número de ocorrências de uma variável chamada \"Pagamento\" em um DataFrame chamado \"df\". O gráfico de pizza mostra a distribuição de cada categoria de \"Pagamento\" com base no número de ocorrências.\n",
        "\n",
        "Vamos analisar linha por linha:\n",
        "\n",
        "plt.style.use('classic'): define o estilo do gráfico como \"classic\". Esta é uma opção de estilo pré-definido da biblioteca matplotlib, que pode ser usada para definir diferentes estilos de gráfico.\n",
        "\n",
        "plt.style.use('bmh'): define o estilo de cores do gráfico como \"bmh\". Esta também é uma opção de estilo pré-definido da biblioteca matplotlib, que pode ser usada para definir diferentes esquemas de cores para o gráfico.\n",
        "\n",
        "df.groupby('Pagamento').count()['Total']: o método groupby() é usado para agrupar o DataFrame \"df\" com base na coluna \"Pagamento\". Em seguida, o método count() é usado para contar o número de ocorrências de cada categoria de \"Pagamento\". O resultado é uma série que contém o número de ocorrências de cada categoria de \"Pagamento\", onde o índice é o nome de cada categoria e o valor é a contagem de ocorrências.\n",
        "\n",
        ".plot(kind='pie', autopct='%.1f', figsize=(16,12), subplots=True, wedgeprops=dict(width=0.20)): o método plot() é usado para criar o gráfico de pizza. Os parâmetros definidos neste método são:\n",
        "\n",
        "kind='pie': define o tipo de gráfico como \"pie chart\" (gráfico de pizza).\n",
        "\n",
        "autopct='%.1f': define o formato de exibição dos valores das fatias da pizza como \"1 casa decimal\" com o símbolo de percentual (%).\n",
        "\n",
        "figsize=(16,12): define o tamanho da figura do gráfico como 16 unidades de largura por 12 unidades de altura.\n",
        "\n",
        "subplots=True: define que cada categoria será plotada em um subplot separado.\n",
        "\n",
        "wedgeprops=dict(width=0.20): define a largura das fatias da pizza como 0.20. Esse parâmetro é usado para separar as fatias da pizza, criando um efeito de destaque visual entre elas."
      ],
      "metadata": {
        "id": "GohB9YsfYMQi"
      }
    },
    {
      "cell_type": "markdown",
      "source": [
        "# **27 - O QUE SIGNIFICA O GRÁFICO ACIMA? MONTE UMA HIPÓTESE PARA ESTE RESULTADO?** "
      ],
      "metadata": {
        "id": "gOPnVXEUY11Z"
      }
    },
    {
      "cell_type": "code",
      "source": [
        "plt.style.use('classic')\n",
        "plt.style.use('bmh')\n",
        "df.groupby('Pagamento').count()['Total'].plot(kind='pie', autopct='%.1f', figsize=(16,12), subplots=True, wedgeprops=dict(width=0.20))"
      ],
      "metadata": {
        "colab": {
          "base_uri": "https://localhost:8080/",
          "height": 818
        },
        "id": "ecKmLi2gk1nN",
        "outputId": "42874dcc-5246-470b-aa4e-f15862c84d49"
      },
      "execution_count": null,
      "outputs": [
        {
          "output_type": "execute_result",
          "data": {
            "text/plain": [
              "array([<Axes: ylabel='Total'>], dtype=object)"
            ]
          },
          "metadata": {},
          "execution_count": 60
        },
        {
          "output_type": "display_data",
          "data": {
            "text/plain": [
              "<Figure size 1280x960 with 1 Axes>"
            ],
            "image/png": "[encoded data removed]"
          },
          "metadata": {}
        }
      ]
    },
    {
      "cell_type": "markdown",
      "source": [
        "**R:** Através da analise do gráfico podemos concluir que se trata das formas de pagamento. Onde são divididas em Dinheiro, Pix e Cartão de Crédito. E a forma de pagamento mais utilizada é o Pix, seguido do dinheiro e cartão."
      ],
      "metadata": {
        "id": "HLh5aY-gY11a"
      }
    },
    {
      "cell_type": "markdown",
      "source": [
        "# **28 - EXPLIQUE O CÓDIGO A SEGUIR?** "
      ],
      "metadata": {
        "id": "Io26CNgsZhJp"
      }
    },
    {
      "cell_type": "code",
      "source": [
        "agrupamento_horario_total = df.groupby('Horário')['Total'].mean().reset_index(drop=False)"
      ],
      "metadata": {
        "id": "mgHZyBUVZ461"
      },
      "execution_count": null,
      "outputs": []
    },
    {
      "cell_type": "markdown",
      "source": [
        "**R:** Este código cria um objeto chamado agrupamento_horario_total que é gerado a partir do agrupamento de um DataFrame df pelo valor da coluna \"Horário\". O resultado é a média dos valores da coluna \"Total\" para cada valor distinto encontrado na coluna \"Horário\".\n",
        "\n",
        "Vamos analisar linha por linha:\n",
        "\n",
        "df.groupby('Horário'): o método groupby() é usado para agrupar o DataFrame \"df\" com base na coluna \"Horário\". Ele agrupa os dados por valor distinto na coluna especificada, criando subconjuntos de dados com base nesses valores. Neste caso, ele cria um conjunto de subconjuntos de dados agrupados por valor distinto em \"Horário\".\n",
        "\n",
        "['Total'].mean(): a coluna \"Total\" do DataFrame \"df\" é selecionada e o método mean() é aplicado a ela. Este método calcula a média dos valores de \"Total\" para cada subconjunto de dados criado pelo groupby(). O resultado é um objeto que contém a média dos valores de \"Total\" para cada valor distinto em \"Horário\".\n",
        "\n",
        ".reset_index(drop=False): o método reset_index() é usado para transformar o índice do objeto resultante em uma coluna. O parâmetro drop=False é usado para manter a coluna de índice no DataFrame resultante. Como o índice original era o valor distinto em \"Horário\", o DataFrame resultante terá duas colunas: \"Horário\" e \"Total\", onde \"Horário\" contém os valores distintos em \"Horário\" e \"Total\" contém a média dos valores de \"Total\" para cada valor distinto em \"Horário\"."
      ],
      "metadata": {
        "id": "3XYMYZlDZhJq"
      }
    },
    {
      "cell_type": "markdown",
      "source": [
        "# **29 - QUAL SUA HIPÓTESE SOBRE O GRÁFICO ACIMA:** "
      ],
      "metadata": {
        "id": "7iJ1BpPnaAkb"
      }
    },
    {
      "cell_type": "code",
      "source": [
        "sns.lineplot(x = 'Horário', y = 'Total', data = agrupamento_horario_total, marker='o', markersize=12, linewidth=2)"
      ],
      "metadata": {
        "colab": {
          "base_uri": "https://localhost:8080/",
          "height": 478
        },
        "id": "3FL7plpioD_L",
        "outputId": "1b564c2c-3292-4436-e4df-ff459dcb7c30"
      },
      "execution_count": null,
      "outputs": [
        {
          "output_type": "execute_result",
          "data": {
            "text/plain": [
              "<Axes: xlabel='Horário', ylabel='Total'>"
            ]
          },
          "metadata": {},
          "execution_count": 64
        },
        {
          "output_type": "display_data",
          "data": {
            "text/plain": [
              "<Figure size 640x480 with 1 Axes>"
            ],
            "image/png": "[encoded data removed]"
          },
          "metadata": {}
        }
      ]
    },
    {
      "cell_type": "markdown",
      "source": [
        "**R:** Analisando este gráfico, podemos concluir que se trata dos horários de pico do supermercado, ja que esta citando os turnos, divididos em (Manhã, tarde e Noite). Onde o maior Pico de vendas é no periodo Vespertino."
      ],
      "metadata": {
        "id": "2E51sQPZaAkc"
      }
    },
    {
      "cell_type": "markdown",
      "source": [
        "# **30 - QUAL LINHA DE PRODUTO DA MAIS LUCRO?** "
      ],
      "metadata": {
        "id": "IYJLZqARazjy"
      }
    },
    {
      "cell_type": "code",
      "source": [
        "df"
      ],
      "metadata": {
        "id": "z1ZzCF35rv9E",
        "outputId": "a6399f34-fe0d-4aa6-fe78-bdf8d0c5509d",
        "colab": {
          "base_uri": "https://localhost:8080/",
          "height": 424
        }
      },
      "execution_count": null,
      "outputs": [
        {
          "output_type": "execute_result",
          "data": {
            "text/plain": [
              "    Filial Tipo de Cliente Gênero        Linha de produto  Preço unitário  \\\n",
              "0        A       Associado      F          Saúde e beleza         1120.35   \n",
              "1        C          Normal      F  Acessórios eletrônicos          229.20   \n",
              "2        A          Normal      M   Casa e estilo de vida          694.95   \n",
              "3        A       Associado      M          Saúde e beleza          873.30   \n",
              "4        A          Normal      M      Esportes e viagens         1294.65   \n",
              "..     ...             ...    ...                     ...             ...   \n",
              "995      C          Normal      M          Saúde e beleza          605.25   \n",
              "996      B          Normal      F   Casa e estilo de vida         1460.70   \n",
              "997      A       Associado      M        Comida e bebidas          477.60   \n",
              "998      A          Normal      M   Casa e estilo de vida          987.30   \n",
              "999      A       Associado      F     Acessórios fashions         1325.10   \n",
              "\n",
              "     Quantidade     Total       Data Horário          Pagamento        COGS  \\\n",
              "0             7   7842.45    Janeiro   Tarde                PIX   4705.4700   \n",
              "1             5   1146.00      Março   Manhã           Dinheiro   1031.4000   \n",
              "2             7   4864.65      Março   Tarde  Cartão de Crédito   3405.2550   \n",
              "3             8   6986.40    Janeiro   Noite                PIX   4191.8400   \n",
              "4             7   9062.55  Fevereiro   Manhã                PIX   6796.9125   \n",
              "..          ...       ...        ...     ...                ...         ...   \n",
              "995           1    605.25    Janeiro   Tarde                PIX    363.1500   \n",
              "996          10  14607.00      Março   Tarde                PIX  10224.9000   \n",
              "997           1    477.60  Fevereiro   Tarde           Dinheiro    405.9600   \n",
              "998           1    987.30  Fevereiro   Tarde           Dinheiro    691.1100   \n",
              "999           7   9275.70  Fevereiro   Tarde           Dinheiro   6956.7750   \n",
              "\n",
              "     Avaliação      Lucro  \n",
              "0           91  3136.9800  \n",
              "1           96   114.6000  \n",
              "2           74  1459.3950  \n",
              "3           84  2794.5600  \n",
              "4           53  2265.6375  \n",
              "..         ...        ...  \n",
              "995         62   242.1000  \n",
              "996         44  4382.1000  \n",
              "997         77    71.6400  \n",
              "998         41   296.1900  \n",
              "999         66  2318.9250  \n",
              "\n",
              "[1000 rows x 13 columns]"
            ],
            "text/html": [
              "\n",
              "  <div id=\"df-82a39a0f-5848-4c2e-823c-c85cb22446e9\">\n",
              "    <div class=\"colab-df-container\">\n",
              "      <div>\n",
              "<style scoped>\n",
              "    .dataframe tbody tr th:only-of-type {\n",
              "        vertical-align: middle;\n",
              "    }\n",
              "\n",
              "    .dataframe tbody tr th {\n",
              "        vertical-align: top;\n",
              "    }\n",
              "\n",
              "    .dataframe thead th {\n",
              "        text-align: right;\n",
              "    }\n",
              "</style>\n",
              "<table border=\"1\" class=\"dataframe\">\n",
              "  <thead>\n",
              "    <tr style=\"text-align: right;\">\n",
              "      <th></th>\n",
              "      <th>Filial</th>\n",
              "      <th>Tipo de Cliente</th>\n",
              "      <th>Gênero</th>\n",
              "      <th>Linha de produto</th>\n",
              "      <th>Preço unitário</th>\n",
              "      <th>Quantidade</th>\n",
              "      <th>Total</th>\n",
              "      <th>Data</th>\n",
              "      <th>Horário</th>\n",
              "      <th>Pagamento</th>\n",
              "      <th>COGS</th>\n",
              "      <th>Avaliação</th>\n",
              "      <th>Lucro</th>\n",
              "    </tr>\n",
              "  </thead>\n",
              "  <tbody>\n",
              "    <tr>\n",
              "      <th>0</th>\n",
              "      <td>A</td>\n",
              "      <td>Associado</td>\n",
              "      <td>F</td>\n",
              "      <td>Saúde e beleza</td>\n",
              "      <td>1120.35</td>\n",
              "      <td>7</td>\n",
              "      <td>7842.45</td>\n",
              "      <td>Janeiro</td>\n",
              "      <td>Tarde</td>\n",
              "      <td>PIX</td>\n",
              "      <td>4705.4700</td>\n",
              "      <td>91</td>\n",
              "      <td>3136.9800</td>\n",
              "    </tr>\n",
              "    <tr>\n",
              "      <th>1</th>\n",
              "      <td>C</td>\n",
              "      <td>Normal</td>\n",
              "      <td>F</td>\n",
              "      <td>Acessórios eletrônicos</td>\n",
              "      <td>229.20</td>\n",
              "      <td>5</td>\n",
              "      <td>1146.00</td>\n",
              "      <td>Março</td>\n",
              "      <td>Manhã</td>\n",
              "      <td>Dinheiro</td>\n",
              "      <td>1031.4000</td>\n",
              "      <td>96</td>\n",
              "      <td>114.6000</td>\n",
              "    </tr>\n",
              "    <tr>\n",
              "      <th>2</th>\n",
              "      <td>A</td>\n",
              "      <td>Normal</td>\n",
              "      <td>M</td>\n",
              "      <td>Casa e estilo de vida</td>\n",
              "      <td>694.95</td>\n",
              "      <td>7</td>\n",
              "      <td>4864.65</td>\n",
              "      <td>Março</td>\n",
              "      <td>Tarde</td>\n",
              "      <td>Cartão de Crédito</td>\n",
              "      <td>3405.2550</td>\n",
              "      <td>74</td>\n",
              "      <td>1459.3950</td>\n",
              "    </tr>\n",
              "    <tr>\n",
              "      <th>3</th>\n",
              "      <td>A</td>\n",
              "      <td>Associado</td>\n",
              "      <td>M</td>\n",
              "      <td>Saúde e beleza</td>\n",
              "      <td>873.30</td>\n",
              "      <td>8</td>\n",
              "      <td>6986.40</td>\n",
              "      <td>Janeiro</td>\n",
              "      <td>Noite</td>\n",
              "      <td>PIX</td>\n",
              "      <td>4191.8400</td>\n",
              "      <td>84</td>\n",
              "      <td>2794.5600</td>\n",
              "    </tr>\n",
              "    <tr>\n",
              "      <th>4</th>\n",
              "      <td>A</td>\n",
              "      <td>Normal</td>\n",
              "      <td>M</td>\n",
              "      <td>Esportes e viagens</td>\n",
              "      <td>1294.65</td>\n",
              "      <td>7</td>\n",
              "      <td>9062.55</td>\n",
              "      <td>Fevereiro</td>\n",
              "      <td>Manhã</td>\n",
              "      <td>PIX</td>\n",
              "      <td>6796.9125</td>\n",
              "      <td>53</td>\n",
              "      <td>2265.6375</td>\n",
              "    </tr>\n",
              "    <tr>\n",
              "      <th>...</th>\n",
              "      <td>...</td>\n",
              "      <td>...</td>\n",
              "      <td>...</td>\n",
              "      <td>...</td>\n",
              "      <td>...</td>\n",
              "      <td>...</td>\n",
              "      <td>...</td>\n",
              "      <td>...</td>\n",
              "      <td>...</td>\n",
              "      <td>...</td>\n",
              "      <td>...</td>\n",
              "      <td>...</td>\n",
              "      <td>...</td>\n",
              "    </tr>\n",
              "    <tr>\n",
              "      <th>995</th>\n",
              "      <td>C</td>\n",
              "      <td>Normal</td>\n",
              "      <td>M</td>\n",
              "      <td>Saúde e beleza</td>\n",
              "      <td>605.25</td>\n",
              "      <td>1</td>\n",
              "      <td>605.25</td>\n",
              "      <td>Janeiro</td>\n",
              "      <td>Tarde</td>\n",
              "      <td>PIX</td>\n",
              "      <td>363.1500</td>\n",
              "      <td>62</td>\n",
              "      <td>242.1000</td>\n",
              "    </tr>\n",
              "    <tr>\n",
              "      <th>996</th>\n",
              "      <td>B</td>\n",
              "      <td>Normal</td>\n",
              "      <td>F</td>\n",
              "      <td>Casa e estilo de vida</td>\n",
              "      <td>1460.70</td>\n",
              "      <td>10</td>\n",
              "      <td>14607.00</td>\n",
              "      <td>Março</td>\n",
              "      <td>Tarde</td>\n",
              "      <td>PIX</td>\n",
              "      <td>10224.9000</td>\n",
              "      <td>44</td>\n",
              "      <td>4382.1000</td>\n",
              "    </tr>\n",
              "    <tr>\n",
              "      <th>997</th>\n",
              "      <td>A</td>\n",
              "      <td>Associado</td>\n",
              "      <td>M</td>\n",
              "      <td>Comida e bebidas</td>\n",
              "      <td>477.60</td>\n",
              "      <td>1</td>\n",
              "      <td>477.60</td>\n",
              "      <td>Fevereiro</td>\n",
              "      <td>Tarde</td>\n",
              "      <td>Dinheiro</td>\n",
              "      <td>405.9600</td>\n",
              "      <td>77</td>\n",
              "      <td>71.6400</td>\n",
              "    </tr>\n",
              "    <tr>\n",
              "      <th>998</th>\n",
              "      <td>A</td>\n",
              "      <td>Normal</td>\n",
              "      <td>M</td>\n",
              "      <td>Casa e estilo de vida</td>\n",
              "      <td>987.30</td>\n",
              "      <td>1</td>\n",
              "      <td>987.30</td>\n",
              "      <td>Fevereiro</td>\n",
              "      <td>Tarde</td>\n",
              "      <td>Dinheiro</td>\n",
              "      <td>691.1100</td>\n",
              "      <td>41</td>\n",
              "      <td>296.1900</td>\n",
              "    </tr>\n",
              "    <tr>\n",
              "      <th>999</th>\n",
              "      <td>A</td>\n",
              "      <td>Associado</td>\n",
              "      <td>F</td>\n",
              "      <td>Acessórios fashions</td>\n",
              "      <td>1325.10</td>\n",
              "      <td>7</td>\n",
              "      <td>9275.70</td>\n",
              "      <td>Fevereiro</td>\n",
              "      <td>Tarde</td>\n",
              "      <td>Dinheiro</td>\n",
              "      <td>6956.7750</td>\n",
              "      <td>66</td>\n",
              "      <td>2318.9250</td>\n",
              "    </tr>\n",
              "  </tbody>\n",
              "</table>\n",
              "<p>1000 rows × 13 columns</p>\n",
              "</div>\n",
              "      <button class=\"colab-df-convert\" onclick=\"convertToInteractive('df-82a39a0f-5848-4c2e-823c-c85cb22446e9')\"\n",
              "              title=\"Convert this dataframe to an interactive table.\"\n",
              "              style=\"display:none;\">\n",
              "        \n",
              "  <svg xmlns=\"http://www.w3.org/2000/svg\" height=\"24px\"viewBox=\"0 0 24 24\"\n",
              "       width=\"24px\">\n",
              "    <path d=\"M0 0h24v24H0V0z\" fill=\"none\"/>\n",
              "    <path d=\"M18.56 5.44l.94 2.06.94-2.06 2.06-.94-2.06-.94-.94-2.06-.94 2.06-2.06.94zm-11 1L8.5 8.5l.94-2.06 2.06-.94-2.06-.94L8.5 2.5l-.94 2.06-2.06.94zm10 10l.94 2.06.94-2.06 2.06-.94-2.06-.94-.94-2.06-.94 2.06-2.06.94z\"/><path d=\"M17.41 7.96l-1.37-1.37c-.4-.4-.92-.59-1.43-.59-.52 0-1.04.2-1.43.59L10.3 9.45l-7.72 7.72c-.78.78-.78 2.05 0 2.83L4 21.41c.39.39.9.59 1.41.59.51 0 1.02-.2 1.41-.59l7.78-7.78 2.81-2.81c.8-.78.8-2.07 0-2.86zM5.41 20L4 18.59l7.72-7.72 1.47 1.35L5.41 20z\"/>\n",
              "  </svg>\n",
              "      </button>\n",
              "      \n",
              "  <style>\n",
              "    .colab-df-container {\n",
              "      display:flex;\n",
              "      flex-wrap:wrap;\n",
              "      gap: 12px;\n",
              "    }\n",
              "\n",
              "    .colab-df-convert {\n",
              "      background-color: #E8F0FE;\n",
              "      border: none;\n",
              "      border-radius: 50%;\n",
              "      cursor: pointer;\n",
              "      display: none;\n",
              "      fill: #1967D2;\n",
              "      height: 32px;\n",
              "      padding: 0 0 0 0;\n",
              "      width: 32px;\n",
              "    }\n",
              "\n",
              "    .colab-df-convert:hover {\n",
              "      background-color: #E2EBFA;\n",
              "      box-shadow: 0px 1px 2px rgba(60, 64, 67, 0.3), 0px 1px 3px 1px rgba(60, 64, 67, 0.15);\n",
              "      fill: #174EA6;\n",
              "    }\n",
              "\n",
              "    [theme=dark] .colab-df-convert {\n",
              "      background-color: #3B4455;\n",
              "      fill: #D2E3FC;\n",
              "    }\n",
              "\n",
              "    [theme=dark] .colab-df-convert:hover {\n",
              "      background-color: #434B5C;\n",
              "      box-shadow: 0px 1px 3px 1px rgba(0, 0, 0, 0.15);\n",
              "      filter: drop-shadow(0px 1px 2px rgba(0, 0, 0, 0.3));\n",
              "      fill: #FFFFFF;\n",
              "    }\n",
              "  </style>\n",
              "\n",
              "      <script>\n",
              "        const buttonEl =\n",
              "          document.querySelector('#df-82a39a0f-5848-4c2e-823c-c85cb22446e9 button.colab-df-convert');\n",
              "        buttonEl.style.display =\n",
              "          google.colab.kernel.accessAllowed ? 'block' : 'none';\n",
              "\n",
              "        async function convertToInteractive(key) {\n",
              "          const element = document.querySelector('#df-82a39a0f-5848-4c2e-823c-c85cb22446e9');\n",
              "          const dataTable =\n",
              "            await google.colab.kernel.invokeFunction('convertToInteractive',\n",
              "                                                     [key], {});\n",
              "          if (!dataTable) return;\n",
              "\n",
              "          const docLinkHtml = 'Like what you see? Visit the ' +\n",
              "            '<a target=\"_blank\" href=https://colab.research.google.com/notebooks/data_table.ipynb>data table notebook</a>'\n",
              "            + ' to learn more about interactive tables.';\n",
              "          element.innerHTML = '';\n",
              "          dataTable['output_type'] = 'display_data';\n",
              "          await google.colab.output.renderOutput(dataTable, element);\n",
              "          const docLink = document.createElement('div');\n",
              "          docLink.innerHTML = docLinkHtml;\n",
              "          element.appendChild(docLink);\n",
              "        }\n",
              "      </script>\n",
              "    </div>\n",
              "  </div>\n",
              "  "
            ]
          },
          "metadata": {},
          "execution_count": 67
        }
      ]
    },
    {
      "cell_type": "markdown",
      "source": [
        "**R:** Comparando a coluna \"Linha de Produto\" com a Coluna \"Lucro\", podemos notar que a linha de produto que gerou mais lucro foi: \"Casa e estilo de vida\"."
      ],
      "metadata": {
        "id": "Ts0TMl3Bazj5"
      }
    }
  ]
}