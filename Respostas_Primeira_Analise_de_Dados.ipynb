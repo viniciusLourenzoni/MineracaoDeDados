{
  "nbformat": 4,
  "nbformat_minor": 0,
  "metadata": {
    "colab": {
      "provenance": [],
      "collapsed_sections": [
        "i6u-R9eVa_oa",
        "CWUGHa-UZymt",
        "TZ8b2IzBbmfD",
        "riEbXeIcdgLA",
        "OXzeje9Zefwj",
        "TVc_P-ZNfj32",
        "-D2SgzB-nBy9",
        "8ldcrtaIoD6U",
        "OzprPAsfo0Bn"
      ],
      "authorship_tag": "ABX9TyMoLzp+D9b03avGJA6lCctF",
      "include_colab_link": true
    },
    "kernelspec": {
      "name": "python3",
      "display_name": "Python 3"
    },
    "language_info": {
      "name": "python"
    }
  },
  "cells": [
    {
      "cell_type": "markdown",
      "metadata": {
        "id": "view-in-github",
        "colab_type": "text"
      },
      "source": [
        "<a href=\"https://colab.research.google.com/github/viniciusLourenzoni/MineracaoDeDados/blob/main/Respostas_Primeira_Analise_de_Dados.ipynb\" target=\"_parent\"><img src=\"https://colab.research.google.com/assets/colab-badge.svg\" alt=\"Open In Colab\"/></a>"
      ]
    },
    {
      "cell_type": "markdown",
      "source": [
        "# **1- CRIE UM TEXTO SOBRE O CONTEXTO DESSA BASE DE DADOS, DETALHANDO CADA COLUNA:**"
      ],
      "metadata": {
        "id": "i6u-R9eVa_oa"
      }
    },
    {
      "cell_type": "markdown",
      "source": [
        "A Base de Dados se trata de um movimento de dados de um supermecado da Tailândia, durante os 3 primeiros meses do ano, nesta base contém informações de Vendas de cada uma das Filiais dessa rede de Supermercado (3 filiais), assim como, o tipo do cliente, ou seja, se é um membro ou cliente normal, Gênero, Qual a linha de produto, preço de cada produto, Quantidade Adquirida, Valor total de cada compra realizada, data, período do dia, forma de pagamento, rendimento bruto e avaliação do cliente."
      ],
      "metadata": {
        "id": "oXtK3BD5bKiU"
      }
    },
    {
      "cell_type": "markdown",
      "source": [
        "#**2 - PORQUE PRECISAMOS DE BIBLITOTECA NO PYTHON?**"
      ],
      "metadata": {
        "id": "CWUGHa-UZymt"
      }
    },
    {
      "cell_type": "markdown",
      "source": [
        "**Iremos citar quais as prinpais bibliotecas utilizadas no Python, e para que serve cada uma delas.**\n",
        "\n",
        "\n",
        "**Numpy**\n",
        "\n",
        "\n",
        "O NumPy é muito utilizado na Ciência de Dados para processar grandes arrays e matrizes em alta velocidade. Além disso, ele oferece ao usuário uma série de funções matemáticas de alto nível para o tratamento de dados em Python.\n",
        "\n",
        "Trata-se de uma biblioteca que ocupa pouca memória e apresenta alta eficiência. Por ser open source, está constantemente sendo aprimorada pela comunidade, que cria novas ferramentas e soluciona problemas.\n",
        "\n",
        "\n",
        "**Pandas**\n",
        "\n",
        "\n",
        "O Pandas é uma biblioteca para análise e manipulação de dados que se utiliza de DataFrames a criação, exportação e manuseio de informações. Essas estruturas são formadas por duas dimensões (linhas e colunas), e podem ser atualizadas, exportadas e alteradas com facilidade.\n",
        "\n",
        "Além de ser uma ferramenta fácil de utilizar com interface amigável, ela permite a criação de gráficos inteligentes para a visualização de informações, e possui mecanismos para grupar e transformar dados.\n",
        "\n",
        "\n",
        "**SciPy**\n",
        "\n",
        "O SciPy é baseado no Numpy, e oferece um pacote de técnicas para a computação científica: estatísticas, integração numérica, cálculo integral, processamento de sinais e imagens, solução de equações diferenciais, funções especiais, entre outros. Todos esses pacotes são intuitivos e fáceis de aprender, tornando a ferramenta acessível."
      ],
      "metadata": {
        "id": "4Naf_sgXaAn5"
      }
    },
    {
      "cell_type": "markdown",
      "source": [
        "#**3 - EXPLIQUE O COMANDO ABAIXO, DE QUAL BIBLIOTECA SE TRATA?** "
      ],
      "metadata": {
        "id": "TZ8b2IzBbmfD"
      }
    },
    {
      "cell_type": "code",
      "source": [
        "sns.heatmap(df.isnull(),\n",
        "            yticklabels = False,\n",
        "            cbar = False,\n",
        "            cmap = 'gnuplot') #Função do seaborn para visualizar dados que estejam faltando (NaN = Not a Number)"
      ],
      "metadata": {
        "colab": {
          "base_uri": "https://localhost:8080/",
          "height": 429
        },
        "id": "Iak_-2ExMcNS",
        "outputId": "9f6dd737-0b2a-4b8c-a633-b3ff855bfd32"
      },
      "execution_count": null,
      "outputs": [
        {
          "output_type": "execute_result",
          "data": {
            "text/plain": [
              "<Axes: >"
            ]
          },
          "metadata": {},
          "execution_count": 6
        },
        {
          "output_type": "display_data",
          "data": {
            "text/plain": [
              "<Figure size 432x288 with 1 Axes>"
            ],
            "image/png": "[encoded data removed]"
          },
          "metadata": {
            "needs_background": "light"
          }
        }
      ]
    },
    {
      "cell_type": "markdown",
      "source": [
        "**R: O comando acima utiliza a função heatmap da biblioteca Seaborn** para visualizar dados faltantes (NaN) no dataframe **df**.\n",
        "\n",
        "A biblioteca **Seaborn** é uma biblioteca de visualização de dados em Python que é construída em cima da biblioteca Matplotlib. Ela fornece uma interface de alto nível para criar gráficos estatísticos atraentes e informativos.\n",
        "\n",
        "A função heatmap cria um mapa de calor para visualizar os valores de um DataFrame. Neste caso, a função heatmap é utilizada para visualizar os dados faltantes no DataFrame df. Os valores NaN são representados por uma cor específica (dada pelo mapa de cores 'gnuplot') e os valores não faltantes são representados por outras cores diferentes.\n",
        "\n",
        "Os parâmetros yticklabels = False e cbar = False são usados para remover os rótulos do eixo y e a barra de cores, respectivamente, a fim de melhorar a visualização dos dados faltantes."
      ],
      "metadata": {
        "id": "zz6PzInrcB3n"
      }
    },
    {
      "cell_type": "markdown",
      "source": [
        "#**4 - POR QUE SE UTILIZA \"!\" ANTES DO COMANDO GDOWN, PARA BAIXAR A BASE?** "
      ],
      "metadata": {
        "id": "riEbXeIcdgLA"
      }
    },
    {
      "cell_type": "markdown",
      "source": [
        "**R:** O símbolo \"!\" é utilizado para executar um comando no terminal do sistema operacional ao qual o notebook está sendo executado.\n",
        "\n",
        "No caso específico da biblioteca gdown, ele é usado para baixar arquivos do Google Drive, e é possível usá-lo sem o símbolo \"!\", mas ao adicionar \"!\" antes do comando, ele é executado como se fosse uma linha de comando diretamente no terminal.\n",
        "\n",
        "Portanto, ao adicionar \"!\" antes do comando gdown, ele é executado diretamente no terminal, o que permite o download da base de dados diretamente do Google Drive para o ambiente de trabalho do usuário sem precisar baixar manualmente o arquivo e, em seguida, transferi-lo para o ambiente."
      ],
      "metadata": {
        "id": "x5YrceZfdgLB"
      }
    },
    {
      "cell_type": "markdown",
      "source": [
        "#**5 - PORQUE ESSE COMANDO É IMPORTANTE QUANDO SE TRATA DE KDD?** "
      ],
      "metadata": {
        "id": "OXzeje9Zefwj"
      }
    },
    {
      "cell_type": "code",
      "source": [
        "df.duplicated().sum() "
      ],
      "metadata": {
        "colab": {
          "base_uri": "https://localhost:8080/"
        },
        "id": "m10NgQo2c8ZG",
        "outputId": "33cd84a8-6196-4a5d-a14e-9bc0a8dd5509"
      },
      "execution_count": null,
      "outputs": [
        {
          "output_type": "execute_result",
          "data": {
            "text/plain": [
              "0"
            ]
          },
          "metadata": {},
          "execution_count": 22
        }
      ]
    },
    {
      "cell_type": "markdown",
      "source": [
        "**R:** O comando **df.duplicated().sum()** é importante em KDD porque ele ajuda a identificar e tratar de dados duplicados em um DataFrame.\n",
        "\n",
        "O comando **df.duplicated().sum()** verifica se existem valores duplicados no DataFrame df e retorna a quantidade de duplicatas encontradas. Se o valor retornado for maior que zero, significa que há duplicatas no DataFrame, o que pode ser um problema para algumas análises."
      ],
      "metadata": {
        "id": "j3AlUxbuefwk"
      }
    },
    {
      "cell_type": "markdown",
      "source": [
        "# **6 - EXPLIQUE A FUNÇÃO dt.month.map(meses)?** "
      ],
      "metadata": {
        "id": "TVc_P-ZNfj32"
      }
    },
    {
      "cell_type": "code",
      "source": [
        "df['Data'] = pd.to_datetime(df['Data']).dt.month.map(meses) #Mapear o número mês para string mês"
      ],
      "metadata": {
        "id": "EhWVAQUCeC2w"
      },
      "execution_count": null,
      "outputs": []
    },
    {
      "cell_type": "markdown",
      "source": [
        "**R:** O comando df['Data'] = pd.to_datetime(df['Data']).dt.month.map(meses) utiliza a função map() em conjunto com a biblioteca Pandas para converter os valores de mês de uma coluna de data em nomes de mês.\n",
        "\n",
        "A função pd.to_datetime() é usada para converter os valores da coluna 'Data' em objetos de data e hora. Em seguida, a propriedade dt.month é usada para obter os valores de mês (representados por números inteiros) de cada data na coluna 'Data'."
      ],
      "metadata": {
        "id": "P3QMlusbfj4A"
      }
    },
    {
      "cell_type": "markdown",
      "source": [
        "# **7 - O QUE SIGNIFICA A FUNÇÃO ABAIXO? POR QUE LINHA DE PRODUTO ESTÁ ENTRE PARÊNTESES E AVALIAÇÃO ENTRE COLCHETES?** "
      ],
      "metadata": {
        "id": "-D2SgzB-nBy9"
      }
    },
    {
      "cell_type": "code",
      "source": [
        "Agrupamento = df.groupby('Linha de produto')['Avaliação'].mean().reset_index(drop=False) "
      ],
      "metadata": {
        "id": "XRnBagp4imw5",
        "colab": {
          "base_uri": "https://localhost:8080/",
          "height": 172
        },
        "outputId": "56fc57b6-0347-472d-8225-9c8597855afb"
      },
      "execution_count": 1,
      "outputs": [
        {
          "output_type": "error",
          "ename": "NameError",
          "evalue": "ignored",
          "traceback": [
            "\u001b[0;31m---------------------------------------------------------------------------\u001b[0m",
            "\u001b[0;31mNameError\u001b[0m                                 Traceback (most recent call last)",
            "\u001b[0;32m<ipython-input-1-56bc3403642a>\u001b[0m in \u001b[0;36m<module>\u001b[0;34m\u001b[0m\n\u001b[0;32m----> 1\u001b[0;31m \u001b[0mAgrupamento\u001b[0m \u001b[0;34m=\u001b[0m \u001b[0mdf\u001b[0m\u001b[0;34m.\u001b[0m\u001b[0mgroupby\u001b[0m\u001b[0;34m(\u001b[0m\u001b[0;34m'Linha de produto'\u001b[0m\u001b[0;34m)\u001b[0m\u001b[0;34m[\u001b[0m\u001b[0;34m'Avaliação'\u001b[0m\u001b[0;34m]\u001b[0m\u001b[0;34m.\u001b[0m\u001b[0mmean\u001b[0m\u001b[0;34m(\u001b[0m\u001b[0;34m)\u001b[0m\u001b[0;34m.\u001b[0m\u001b[0mreset_index\u001b[0m\u001b[0;34m(\u001b[0m\u001b[0mdrop\u001b[0m\u001b[0;34m=\u001b[0m\u001b[0;32mFalse\u001b[0m\u001b[0;34m)\u001b[0m\u001b[0;34m\u001b[0m\u001b[0;34m\u001b[0m\u001b[0m\n\u001b[0m",
            "\u001b[0;31mNameError\u001b[0m: name 'df' is not defined"
          ]
        }
      ]
    },
    {
      "cell_type": "markdown",
      "source": [
        "**R:** A função groupby() é uma função do Pandas que é utilizada para agrupar os dados em um DataFrame de acordo com uma ou mais colunas. Neste caso, a função groupby() é utilizada para agrupar os dados do DataFrame df pela coluna \"Linha de produto\".\n",
        "\n",
        "O parâmetro \"Linha de produto\" é passado entre os parênteses da função groupby() para indicar qual coluna do DataFrame deve ser usada como base para o agrupamento.\n",
        "\n",
        "Além disso, a função mean() é aplicada à coluna \"Avaliação\" do DataFrame para calcular a média dos valores dessa coluna para cada grupo formado pela coluna \"Linha de produto\". O resultado é um novo DataFrame contendo as médias das avaliações para cada linha de produto.\n",
        "\n",
        "O parâmetro drop=False é usado no comando reset_index() para manter a coluna \"Linha de produto\" no novo DataFrame gerado após o agrupamento e cálculo das médias.\n",
        "\n",
        "Portanto, o comando completo Agrupamento = df.groupby('Linha de produto')['Avaliação'].mean().reset_index(drop=False) significa que os dados no DataFrame df serão agrupados pela coluna \"Linha de produto\" e, em seguida, a média dos valores da coluna \"Avaliação\" será calculada para cada grupo. O resultado será um novo DataFrame contendo as médias das avaliações para cada linha de produto, mantendo a coluna \"Linha de produto\" no novo DataFrame."
      ],
      "metadata": {
        "id": "iGZRsWPZnBy-"
      }
    },
    {
      "cell_type": "markdown",
      "source": [
        "# **8 - POR QUE ASCENDING ESTÁ FALSO?** "
      ],
      "metadata": {
        "id": "8ldcrtaIoD6U"
      }
    },
    {
      "cell_type": "code",
      "source": [
        "Agrupando_avaliação = Agrupando_avaliação.sort_values(by = 'Avaliação', ascending = False) #Classicando valores na ordem decrescente (maior para menor)"
      ],
      "metadata": {
        "id": "1B3ETgdTnub6"
      },
      "execution_count": null,
      "outputs": []
    },
    {
      "cell_type": "markdown",
      "source": [
        "**R:** O parâmetro ascending no comando sort_values() indica se os valores da coluna especificada devem ser classificados em ordem crescente ou decrescente.\n",
        "\n",
        "No caso do comando Agrupando_avaliação.sort_values(by='Avaliação', ascending=False), o parâmetro ascending está definido como False, o que significa que a coluna \"Avaliação\" será classificada em ordem decrescente.\n",
        "\n",
        "Ao classificar a coluna \"Avaliação\" em ordem decrescente, os valores mais altos aparecerão primeiro na coluna, seguidos pelos valores mais baixos. Isso é útil quando se deseja identificar rapidamente quais itens possuem as avaliações mais altas, por exemplo.\n",
        "\n",
        "Dessa forma, ao usar ascending=False, os itens com as avaliações mais altas aparecerão no topo da tabela, o que facilita a visualização e análise dos dados."
      ],
      "metadata": {
        "id": "ckcVcyJOoD6e"
      }
    },
    {
      "cell_type": "markdown",
      "source": [
        "# **9 - EXPLIQUE DE MANEIRA RESUMIDA O QUE FOI FEITO:** "
      ],
      "metadata": {
        "id": "OzprPAsfo0Bn"
      }
    },
    {
      "cell_type": "code",
      "source": [
        "ax = sns.barplot(y = 'Linha de produto', x = 'Avaliação', data = Agrupando_avaliação, palette = Figura)\n",
        "plt.rcParams['figure.figsize'] = (18, 10) #Aumentar o tamanho da Figura\n",
        "ax.set_xlabel('Avaliação dos Clientes')\n",
        "plt.rcParams.update({\"font.size\": 18}) #Aumentar a letra\n",
        "plt.savefig('Linha_x_avaliacao.png', dpi=300)"
      ],
      "metadata": {
        "colab": {
          "base_uri": "https://localhost:8080/",
          "height": 279
        },
        "id": "ePlVIst1oKx0",
        "outputId": "300a064a-caec-4943-cfd5-c19d172ba7c8"
      },
      "execution_count": null,
      "outputs": [
        {
          "output_type": "display_data",
          "data": {
            "text/plain": [
              "<Figure size 432x288 with 1 Axes>"
            ],
            "image/png": "[encoded data removed]"
          },
          "metadata": {
            "needs_background": "light"
          }
        }
      ]
    },
    {
      "cell_type": "markdown",
      "source": [
        "**R:** O código em questão utiliza a biblioteca Seaborn para gerar um gráfico de barras.\n",
        "\n",
        "A variável Agrupando_avaliação contém os dados a serem plotados, que foram agrupados pela coluna \"Linha de produto\" e tiveram a média das avaliações calculadas.\n",
        "\n",
        "Em seguida, a função sns.barplot() é usada para plotar o gráfico de barras com a avaliação média para cada linha de produto. Os eixos X e Y são definidos como \"Avaliação dos Clientes\" e \"Linha de produto\", respectivamente.\n",
        "\n",
        "A variável Figura é usada para definir a paleta de cores do gráfico, que será utilizada para colorir as barras.\n",
        "\n",
        "As próximas três linhas de código são usadas para personalizar a figura. A primeira linha define o tamanho da figura como (18,10). A segunda linha aumenta o tamanho da fonte do gráfico. A terceira linha salva a figura como uma imagem em formato png.\n",
        "\n",
        "Em resumo, o código gera um gráfico de barras utilizando os dados de avaliação média de cada linha de produto, personaliza a figura e salva-a como uma imagem."
      ],
      "metadata": {
        "id": "srVsqVl3o0Bo"
      }
    }
  ]
}